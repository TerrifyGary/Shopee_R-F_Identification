{
 "cells": [
  {
   "cell_type": "code",
   "execution_count": 1,
   "metadata": {},
   "outputs": [
    {
     "name": "stderr",
     "output_type": "stream",
     "text": [
      "Building prefix dict from the default dictionary ...\n",
      "Loading model from cache /tmp/jieba.cache\n",
      "Loading model cost 0.874 seconds.\n",
      "Prefix dict has been built succesfully.\n"
     ]
    },
    {
     "name": "stdout",
     "output_type": "stream",
     "text": [
      "505\n",
      "0.04972430090586845 %\n"
     ]
    }
   ],
   "source": [
    "import sqlite3\n",
    "import pandas as pd\n",
    "import jieba\n",
    "# Create your connection.\n",
    "cnx = sqlite3.connect('Data.db')\n",
    "\n",
    "times = 0\n",
    "df = pd.read_sql_query(\"SELECT * FROM rating\", cnx)\n",
    "df = pd.read_sql_query(\"SELECT * FROM rating WHERE star == 5\", cnx)\n",
    "comment_ = df['comment'].to_string()\n",
    "\n",
    "stopwords = ['假貨','瑕疵','仿','低仿','高仿','糟糕','不好','差評','f','F','不太','不佳']\n",
    "words = jieba.lcut(comment_)\n",
    "\n",
    "for x in range (len(df['comment'])):\n",
    "    comment_ = df['comment'][x]\n",
    "    words = jieba.lcut(comment_)\n",
    "#     words = jieba.cut_for_search(df['comment'][x])  # 搜索引擎模式\n",
    "#     jieba.set_dictionary('./dict.txt.big.txt')\n",
    "    for word in words:\n",
    "        if word in stopwords:\n",
    "            times+=1\n",
    "    \n",
    "print(times)\n",
    "\n",
    "print(times/len(df['comment']),\"%\")\n",
    "# print(df)"
   ]
  },
  {
   "cell_type": "code",
   "execution_count": null,
   "metadata": {},
   "outputs": [],
   "source": [
    "print(df['comment'][0])"
   ]
  },
  {
   "cell_type": "code",
   "execution_count": null,
   "metadata": {},
   "outputs": [],
   "source": [
    "import jieba\n",
    "seg_list = jieba.cut(df['comment'][0], cut_all=False)\n",
    "print(\"Default Mode: \" + \"/ \".join(seg_list))"
   ]
  },
  {
   "cell_type": "code",
   "execution_count": null,
   "metadata": {},
   "outputs": [],
   "source": [
    "all_comment = []\n",
    "for x in range(len(df['comment'])):\n",
    "    seg_list = jieba.cut_for_search(df['comment'][x])  # 搜索引擎模式\n",
    "    jieba.set_dictionary('./dict.txt.big.txt')\n",
    "    all_comment.append(\",\".join(seg_list))\n",
    "# print(\", \".join(seg_list))\n",
    "print(all_comment)"
   ]
  },
  {
   "cell_type": "code",
   "execution_count": null,
   "metadata": {},
   "outputs": [],
   "source": [
    "from sklearn.feature_extraction.text import TfidfVectorizer\n",
    "vectorizer = TfidfVectorizer()\n",
    "vectorizer.fit(all_comment)\n",
    "\n",
    "# print(\"查看對應表\")\n",
    "# print(vectorizer.vectorizer.vocabulary_)\n",
    "\n",
    "print(vectorizer.get_feature_names())\n",
    "x_ = vectorizer.get_feature_names()\n",
    "print(type(x_))\n",
    "print(\"\\n查看IDF對應的分數\")\n",
    "# print(vectorizer.idf_)\n",
    "\n",
    "\n",
    "# 編碼\n",
    "vector = vectorizer.transform(all_comment)\n",
    "\n",
    "print(vector.shape)\n",
    "\n",
    "print(\"\\n查看編碼後結果\")\n",
    "print(vector.toarray())"
   ]
  },
  {
   "cell_type": "code",
   "execution_count": null,
   "metadata": {},
   "outputs": [],
   "source": [
    "len(x_)"
   ]
  },
  {
   "cell_type": "code",
   "execution_count": null,
   "metadata": {},
   "outputs": [],
   "source": [
    "conn = sqlite3.connect('Data_word.db')\n",
    "c = conn.cursor()\n",
    "c.execute('''CREATE TABLE word\n",
    "            (number int, context text)''') # REAL_0 FAKE_1\n",
    "conn.commit()\n",
    "# conn.close()"
   ]
  },
  {
   "cell_type": "code",
   "execution_count": null,
   "metadata": {},
   "outputs": [],
   "source": [
    "for i in range(len(x_)):\n",
    "    temp_list = [i+1,x_[i]]\n",
    "    c.execute('INSERT INTO word VALUES (?,?)', temp_list)\n",
    "    print(x_[i])"
   ]
  },
  {
   "cell_type": "code",
   "execution_count": null,
   "metadata": {},
   "outputs": [],
   "source": [
    "conn.commit()\n",
    "conn.close()"
   ]
  },
  {
   "cell_type": "code",
   "execution_count": null,
   "metadata": {},
   "outputs": [],
   "source": []
  }
 ],
 "metadata": {
  "kernelspec": {
   "display_name": "Python 3",
   "language": "python",
   "name": "python3"
  },
  "language_info": {
   "codemirror_mode": {
    "name": "ipython",
    "version": 3
   },
   "file_extension": ".py",
   "mimetype": "text/x-python",
   "name": "python",
   "nbconvert_exporter": "python",
   "pygments_lexer": "ipython3",
   "version": "3.7.4"
  }
 },
 "nbformat": 4,
 "nbformat_minor": 2
}
